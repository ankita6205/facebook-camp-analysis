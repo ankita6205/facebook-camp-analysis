{
  "nbformat": 4,
  "nbformat_minor": 5,
  "metadata": {
    "kernelspec": {
      "display_name": "Python 3",
      "language": "python",
      "name": "python3"
    },
    "language_info": {
      "codemirror_mode": {
        "name": "ipython",
        "version": 3
      },
      "file_extension": ".py",
      "mimetype": "text/x-python",
      "name": "python",
      "nbconvert_exporter": "python",
      "pygments_lexer": "ipython3",
      "version": "3.8.8"
    },
    "colab": {
      "name": "projects.ipynb",
      "provenance": [],
      "include_colab_link": true
    }
  },
  "cells": [
    {
      "cell_type": "markdown",
      "metadata": {
        "id": "view-in-github",
        "colab_type": "text"
      },
      "source": [
        "<a href=\"https://colab.research.google.com/github/ankita6205/facebook-camp-analysis/blob/main/projects.ipynb\" target=\"_parent\"><img src=\"https://colab.research.google.com/assets/colab-badge.svg\" alt=\"Open In Colab\"/></a>"
      ]
    },
    {
      "cell_type": "markdown",
      "metadata": {
        "id": "9c3f936e"
      },
      "source": [
        "# FACEBOOK MARKETING CAMPAIGN ANALYSIS "
      ],
      "id": "9c3f936e"
    },
    {
      "cell_type": "code",
      "metadata": {
        "id": "330a2822"
      },
      "source": [
        "import pandas as pd\n",
        "import numpy as np\n",
        "import os\n",
        "import matplotlib.pyplot as plt\n",
        "import seaborn as sns\n"
      ],
      "id": "330a2822",
      "execution_count": null,
      "outputs": []
    },
    {
      "cell_type": "code",
      "metadata": {
        "id": "b8e41f55"
      },
      "source": [
        "df = pd.read_csv(\"C:/Users/nayan/OneDrive/Documents/data-ankita-fb-campaign.csv\")"
      ],
      "id": "b8e41f55",
      "execution_count": null,
      "outputs": []
    },
    {
      "cell_type": "markdown",
      "metadata": {
        "id": "6b47bfa7"
      },
      "source": [
        "## Exploring the datasets"
      ],
      "id": "6b47bfa7"
    },
    {
      "cell_type": "code",
      "metadata": {
        "id": "787064f2",
        "outputId": "3222c211-c92e-417b-9d0c-66ceefec9691"
      },
      "source": [
        "df.shape"
      ],
      "id": "787064f2",
      "execution_count": null,
      "outputs": [
        {
          "data": {
            "text/plain": [
              "(1143, 15)"
            ]
          },
          "execution_count": 15,
          "metadata": {},
          "output_type": "execute_result"
        }
      ]
    },
    {
      "cell_type": "code",
      "metadata": {
        "id": "39a2d976",
        "outputId": "95c87743-8d5f-4d7a-81ab-a33a4d70140f"
      },
      "source": [
        "df.describe()"
      ],
      "id": "39a2d976",
      "execution_count": null,
      "outputs": [
        {
          "data": {
            "text/html": [
              "<div>\n",
              "<style scoped>\n",
              "    .dataframe tbody tr th:only-of-type {\n",
              "        vertical-align: middle;\n",
              "    }\n",
              "\n",
              "    .dataframe tbody tr th {\n",
              "        vertical-align: top;\n",
              "    }\n",
              "\n",
              "    .dataframe thead th {\n",
              "        text-align: right;\n",
              "    }\n",
              "</style>\n",
              "<table border=\"1\" class=\"dataframe\">\n",
              "  <thead>\n",
              "    <tr style=\"text-align: right;\">\n",
              "      <th></th>\n",
              "      <th>ad_id</th>\n",
              "      <th>interest1</th>\n",
              "      <th>interest2</th>\n",
              "      <th>interest3</th>\n",
              "      <th>impressions</th>\n",
              "      <th>clicks</th>\n",
              "      <th>spent</th>\n",
              "      <th>total_conversion</th>\n",
              "      <th>approved_conversion</th>\n",
              "    </tr>\n",
              "  </thead>\n",
              "  <tbody>\n",
              "    <tr>\n",
              "      <th>count</th>\n",
              "      <td>1.143000e+03</td>\n",
              "      <td>1143.000000</td>\n",
              "      <td>1.143000e+03</td>\n",
              "      <td>1143.000000</td>\n",
              "      <td>1.143000e+03</td>\n",
              "      <td>1143.000000</td>\n",
              "      <td>1143.000000</td>\n",
              "      <td>761.000000</td>\n",
              "      <td>761.000000</td>\n",
              "    </tr>\n",
              "    <tr>\n",
              "      <th>mean</th>\n",
              "      <td>9.872611e+05</td>\n",
              "      <td>33.884514</td>\n",
              "      <td>1.180606e+05</td>\n",
              "      <td>42.474191</td>\n",
              "      <td>6.872500e+04</td>\n",
              "      <td>11.629921</td>\n",
              "      <td>17.597760</td>\n",
              "      <td>2.161629</td>\n",
              "      <td>0.768725</td>\n",
              "    </tr>\n",
              "    <tr>\n",
              "      <th>std</th>\n",
              "      <td>1.939928e+05</td>\n",
              "      <td>27.560263</td>\n",
              "      <td>2.670506e+05</td>\n",
              "      <td>48.987248</td>\n",
              "      <td>2.067023e+05</td>\n",
              "      <td>27.347899</td>\n",
              "      <td>48.418711</td>\n",
              "      <td>4.062201</td>\n",
              "      <td>1.656445</td>\n",
              "    </tr>\n",
              "    <tr>\n",
              "      <th>min</th>\n",
              "      <td>7.087460e+05</td>\n",
              "      <td>2.000000</td>\n",
              "      <td>3.000000e+00</td>\n",
              "      <td>0.000000</td>\n",
              "      <td>0.000000e+00</td>\n",
              "      <td>0.000000</td>\n",
              "      <td>0.000000</td>\n",
              "      <td>0.000000</td>\n",
              "      <td>0.000000</td>\n",
              "    </tr>\n",
              "    <tr>\n",
              "      <th>25%</th>\n",
              "      <td>7.776325e+05</td>\n",
              "      <td>16.000000</td>\n",
              "      <td>2.200000e+01</td>\n",
              "      <td>19.000000</td>\n",
              "      <td>1.442650e+02</td>\n",
              "      <td>1.000000</td>\n",
              "      <td>0.000000</td>\n",
              "      <td>1.000000</td>\n",
              "      <td>0.000000</td>\n",
              "    </tr>\n",
              "    <tr>\n",
              "      <th>50%</th>\n",
              "      <td>1.121185e+06</td>\n",
              "      <td>26.000000</td>\n",
              "      <td>3.300000e+01</td>\n",
              "      <td>27.000000</td>\n",
              "      <td>3.142000e+03</td>\n",
              "      <td>2.000000</td>\n",
              "      <td>1.530000</td>\n",
              "      <td>1.000000</td>\n",
              "      <td>0.000000</td>\n",
              "    </tr>\n",
              "    <tr>\n",
              "      <th>75%</th>\n",
              "      <td>1.121804e+06</td>\n",
              "      <td>32.000000</td>\n",
              "      <td>9.889400e+04</td>\n",
              "      <td>38.000000</td>\n",
              "      <td>2.786400e+04</td>\n",
              "      <td>8.000000</td>\n",
              "      <td>8.540000</td>\n",
              "      <td>2.000000</td>\n",
              "      <td>1.000000</td>\n",
              "    </tr>\n",
              "    <tr>\n",
              "      <th>max</th>\n",
              "      <td>1.314415e+06</td>\n",
              "      <td>120.000000</td>\n",
              "      <td>2.286228e+06</td>\n",
              "      <td>421.000000</td>\n",
              "      <td>3.052003e+06</td>\n",
              "      <td>340.000000</td>\n",
              "      <td>639.949998</td>\n",
              "      <td>60.000000</td>\n",
              "      <td>21.000000</td>\n",
              "    </tr>\n",
              "  </tbody>\n",
              "</table>\n",
              "</div>"
            ],
            "text/plain": [
              "              ad_id    interest1     interest2    interest3   impressions  \\\n",
              "count  1.143000e+03  1143.000000  1.143000e+03  1143.000000  1.143000e+03   \n",
              "mean   9.872611e+05    33.884514  1.180606e+05    42.474191  6.872500e+04   \n",
              "std    1.939928e+05    27.560263  2.670506e+05    48.987248  2.067023e+05   \n",
              "min    7.087460e+05     2.000000  3.000000e+00     0.000000  0.000000e+00   \n",
              "25%    7.776325e+05    16.000000  2.200000e+01    19.000000  1.442650e+02   \n",
              "50%    1.121185e+06    26.000000  3.300000e+01    27.000000  3.142000e+03   \n",
              "75%    1.121804e+06    32.000000  9.889400e+04    38.000000  2.786400e+04   \n",
              "max    1.314415e+06   120.000000  2.286228e+06   421.000000  3.052003e+06   \n",
              "\n",
              "            clicks        spent  total_conversion  approved_conversion  \n",
              "count  1143.000000  1143.000000        761.000000           761.000000  \n",
              "mean     11.629921    17.597760          2.161629             0.768725  \n",
              "std      27.347899    48.418711          4.062201             1.656445  \n",
              "min       0.000000     0.000000          0.000000             0.000000  \n",
              "25%       1.000000     0.000000          1.000000             0.000000  \n",
              "50%       2.000000     1.530000          1.000000             0.000000  \n",
              "75%       8.000000     8.540000          2.000000             1.000000  \n",
              "max     340.000000   639.949998         60.000000            21.000000  "
            ]
          },
          "execution_count": 16,
          "metadata": {},
          "output_type": "execute_result"
        }
      ]
    },
    {
      "cell_type": "code",
      "metadata": {
        "id": "0a0785dc",
        "outputId": "4910c3b4-e0b7-4756-d000-0514b8e90944"
      },
      "source": [
        "df.head(30)"
      ],
      "id": "0a0785dc",
      "execution_count": null,
      "outputs": [
        {
          "data": {
            "text/html": [
              "<div>\n",
              "<style scoped>\n",
              "    .dataframe tbody tr th:only-of-type {\n",
              "        vertical-align: middle;\n",
              "    }\n",
              "\n",
              "    .dataframe tbody tr th {\n",
              "        vertical-align: top;\n",
              "    }\n",
              "\n",
              "    .dataframe thead th {\n",
              "        text-align: right;\n",
              "    }\n",
              "</style>\n",
              "<table border=\"1\" class=\"dataframe\">\n",
              "  <thead>\n",
              "    <tr style=\"text-align: right;\">\n",
              "      <th></th>\n",
              "      <th>ad_id</th>\n",
              "      <th>reporting_start</th>\n",
              "      <th>reporting_end</th>\n",
              "      <th>campaign_id</th>\n",
              "      <th>fb_campaign_id</th>\n",
              "      <th>age</th>\n",
              "      <th>gender</th>\n",
              "      <th>interest1</th>\n",
              "      <th>interest2</th>\n",
              "      <th>interest3</th>\n",
              "      <th>impressions</th>\n",
              "      <th>clicks</th>\n",
              "      <th>spent</th>\n",
              "      <th>total_conversion</th>\n",
              "      <th>approved_conversion</th>\n",
              "    </tr>\n",
              "  </thead>\n",
              "  <tbody>\n",
              "    <tr>\n",
              "      <th>0</th>\n",
              "      <td>708746</td>\n",
              "      <td>17/08/2017</td>\n",
              "      <td>17/08/2017</td>\n",
              "      <td>916</td>\n",
              "      <td>103916</td>\n",
              "      <td>30-34</td>\n",
              "      <td>M</td>\n",
              "      <td>15</td>\n",
              "      <td>17</td>\n",
              "      <td>17</td>\n",
              "      <td>7350.0</td>\n",
              "      <td>1</td>\n",
              "      <td>1.43</td>\n",
              "      <td>2.0</td>\n",
              "      <td>1.0</td>\n",
              "    </tr>\n",
              "    <tr>\n",
              "      <th>1</th>\n",
              "      <td>708749</td>\n",
              "      <td>17/08/2017</td>\n",
              "      <td>17/08/2017</td>\n",
              "      <td>916</td>\n",
              "      <td>103917</td>\n",
              "      <td>30-34</td>\n",
              "      <td>M</td>\n",
              "      <td>16</td>\n",
              "      <td>19</td>\n",
              "      <td>21</td>\n",
              "      <td>17861.0</td>\n",
              "      <td>2</td>\n",
              "      <td>1.82</td>\n",
              "      <td>2.0</td>\n",
              "      <td>0.0</td>\n",
              "    </tr>\n",
              "    <tr>\n",
              "      <th>2</th>\n",
              "      <td>708771</td>\n",
              "      <td>17/08/2017</td>\n",
              "      <td>17/08/2017</td>\n",
              "      <td>916</td>\n",
              "      <td>103920</td>\n",
              "      <td>30-34</td>\n",
              "      <td>M</td>\n",
              "      <td>20</td>\n",
              "      <td>25</td>\n",
              "      <td>22</td>\n",
              "      <td>693.0</td>\n",
              "      <td>0</td>\n",
              "      <td>0.00</td>\n",
              "      <td>1.0</td>\n",
              "      <td>0.0</td>\n",
              "    </tr>\n",
              "    <tr>\n",
              "      <th>3</th>\n",
              "      <td>708815</td>\n",
              "      <td>30/08/2017</td>\n",
              "      <td>30/08/2017</td>\n",
              "      <td>916</td>\n",
              "      <td>103928</td>\n",
              "      <td>30-34</td>\n",
              "      <td>M</td>\n",
              "      <td>28</td>\n",
              "      <td>32</td>\n",
              "      <td>32</td>\n",
              "      <td>4259.0</td>\n",
              "      <td>1</td>\n",
              "      <td>1.25</td>\n",
              "      <td>1.0</td>\n",
              "      <td>0.0</td>\n",
              "    </tr>\n",
              "    <tr>\n",
              "      <th>4</th>\n",
              "      <td>708818</td>\n",
              "      <td>17/08/2017</td>\n",
              "      <td>17/08/2017</td>\n",
              "      <td>916</td>\n",
              "      <td>103928</td>\n",
              "      <td>30-34</td>\n",
              "      <td>M</td>\n",
              "      <td>28</td>\n",
              "      <td>33</td>\n",
              "      <td>32</td>\n",
              "      <td>4133.0</td>\n",
              "      <td>1</td>\n",
              "      <td>1.29</td>\n",
              "      <td>1.0</td>\n",
              "      <td>1.0</td>\n",
              "    </tr>\n",
              "    <tr>\n",
              "      <th>5</th>\n",
              "      <td>708820</td>\n",
              "      <td>17/08/2017</td>\n",
              "      <td>17/08/2017</td>\n",
              "      <td>916</td>\n",
              "      <td>103929</td>\n",
              "      <td>30-34</td>\n",
              "      <td>M</td>\n",
              "      <td>29</td>\n",
              "      <td>30</td>\n",
              "      <td>30</td>\n",
              "      <td>1915.0</td>\n",
              "      <td>0</td>\n",
              "      <td>0.00</td>\n",
              "      <td>1.0</td>\n",
              "      <td>1.0</td>\n",
              "    </tr>\n",
              "    <tr>\n",
              "      <th>6</th>\n",
              "      <td>708889</td>\n",
              "      <td>17/08/2017</td>\n",
              "      <td>17/08/2017</td>\n",
              "      <td>916</td>\n",
              "      <td>103940</td>\n",
              "      <td>30-34</td>\n",
              "      <td>M</td>\n",
              "      <td>15</td>\n",
              "      <td>16</td>\n",
              "      <td>17</td>\n",
              "      <td>15615.0</td>\n",
              "      <td>3</td>\n",
              "      <td>4.77</td>\n",
              "      <td>1.0</td>\n",
              "      <td>0.0</td>\n",
              "    </tr>\n",
              "    <tr>\n",
              "      <th>7</th>\n",
              "      <td>708895</td>\n",
              "      <td>17/08/2017</td>\n",
              "      <td>17/08/2017</td>\n",
              "      <td>916</td>\n",
              "      <td>103941</td>\n",
              "      <td>30-34</td>\n",
              "      <td>M</td>\n",
              "      <td>16</td>\n",
              "      <td>20</td>\n",
              "      <td>18</td>\n",
              "      <td>10951.0</td>\n",
              "      <td>1</td>\n",
              "      <td>1.27</td>\n",
              "      <td>1.0</td>\n",
              "      <td>1.0</td>\n",
              "    </tr>\n",
              "    <tr>\n",
              "      <th>8</th>\n",
              "      <td>708953</td>\n",
              "      <td>17/08/2017</td>\n",
              "      <td>17/08/2017</td>\n",
              "      <td>916</td>\n",
              "      <td>103951</td>\n",
              "      <td>30-34</td>\n",
              "      <td>M</td>\n",
              "      <td>27</td>\n",
              "      <td>31</td>\n",
              "      <td>31</td>\n",
              "      <td>2355.0</td>\n",
              "      <td>1</td>\n",
              "      <td>1.50</td>\n",
              "      <td>1.0</td>\n",
              "      <td>0.0</td>\n",
              "    </tr>\n",
              "    <tr>\n",
              "      <th>9</th>\n",
              "      <td>708958</td>\n",
              "      <td>30/08/2017</td>\n",
              "      <td>30/08/2017</td>\n",
              "      <td>916</td>\n",
              "      <td>103952</td>\n",
              "      <td>30-34</td>\n",
              "      <td>M</td>\n",
              "      <td>28</td>\n",
              "      <td>32</td>\n",
              "      <td>31</td>\n",
              "      <td>9502.0</td>\n",
              "      <td>3</td>\n",
              "      <td>3.16</td>\n",
              "      <td>1.0</td>\n",
              "      <td>0.0</td>\n",
              "    </tr>\n",
              "    <tr>\n",
              "      <th>10</th>\n",
              "      <td>708979</td>\n",
              "      <td>30/08/2017</td>\n",
              "      <td>30/08/2017</td>\n",
              "      <td>916</td>\n",
              "      <td>103955</td>\n",
              "      <td>30-34</td>\n",
              "      <td>M</td>\n",
              "      <td>31</td>\n",
              "      <td>37</td>\n",
              "      <td>34</td>\n",
              "      <td>1224.0</td>\n",
              "      <td>0</td>\n",
              "      <td>0.00</td>\n",
              "      <td>1.0</td>\n",
              "      <td>0.0</td>\n",
              "    </tr>\n",
              "    <tr>\n",
              "      <th>11</th>\n",
              "      <td>709023</td>\n",
              "      <td>29/08/2017</td>\n",
              "      <td>29/08/2017</td>\n",
              "      <td>916</td>\n",
              "      <td>103962</td>\n",
              "      <td>30-34</td>\n",
              "      <td>M</td>\n",
              "      <td>7</td>\n",
              "      <td>8</td>\n",
              "      <td>8</td>\n",
              "      <td>735.0</td>\n",
              "      <td>0</td>\n",
              "      <td>0.00</td>\n",
              "      <td>1.0</td>\n",
              "      <td>0.0</td>\n",
              "    </tr>\n",
              "    <tr>\n",
              "      <th>12</th>\n",
              "      <td>709038</td>\n",
              "      <td>29/08/2017</td>\n",
              "      <td>29/08/2017</td>\n",
              "      <td>916</td>\n",
              "      <td>103965</td>\n",
              "      <td>30-34</td>\n",
              "      <td>M</td>\n",
              "      <td>16</td>\n",
              "      <td>20</td>\n",
              "      <td>22</td>\n",
              "      <td>5117.0</td>\n",
              "      <td>0</td>\n",
              "      <td>0.00</td>\n",
              "      <td>1.0</td>\n",
              "      <td>0.0</td>\n",
              "    </tr>\n",
              "    <tr>\n",
              "      <th>13</th>\n",
              "      <td>709040</td>\n",
              "      <td>29/08/2017</td>\n",
              "      <td>29/08/2017</td>\n",
              "      <td>916</td>\n",
              "      <td>103965</td>\n",
              "      <td>30-34</td>\n",
              "      <td>M</td>\n",
              "      <td>16</td>\n",
              "      <td>19</td>\n",
              "      <td>21</td>\n",
              "      <td>5120.0</td>\n",
              "      <td>0</td>\n",
              "      <td>0.00</td>\n",
              "      <td>1.0</td>\n",
              "      <td>0.0</td>\n",
              "    </tr>\n",
              "    <tr>\n",
              "      <th>14</th>\n",
              "      <td>709059</td>\n",
              "      <td>30/08/2017</td>\n",
              "      <td>30/08/2017</td>\n",
              "      <td>916</td>\n",
              "      <td>103968</td>\n",
              "      <td>30-34</td>\n",
              "      <td>M</td>\n",
              "      <td>20</td>\n",
              "      <td>26</td>\n",
              "      <td>23</td>\n",
              "      <td>14669.0</td>\n",
              "      <td>7</td>\n",
              "      <td>10.28</td>\n",
              "      <td>1.0</td>\n",
              "      <td>1.0</td>\n",
              "    </tr>\n",
              "    <tr>\n",
              "      <th>15</th>\n",
              "      <td>709105</td>\n",
              "      <td>30/08/2017</td>\n",
              "      <td>30/08/2017</td>\n",
              "      <td>916</td>\n",
              "      <td>103976</td>\n",
              "      <td>30-34</td>\n",
              "      <td>M</td>\n",
              "      <td>28</td>\n",
              "      <td>30</td>\n",
              "      <td>32</td>\n",
              "      <td>1241.0</td>\n",
              "      <td>0</td>\n",
              "      <td>0.00</td>\n",
              "      <td>1.0</td>\n",
              "      <td>1.0</td>\n",
              "    </tr>\n",
              "    <tr>\n",
              "      <th>16</th>\n",
              "      <td>709115</td>\n",
              "      <td>30/08/2017</td>\n",
              "      <td>30/08/2017</td>\n",
              "      <td>916</td>\n",
              "      <td>103978</td>\n",
              "      <td>30-34</td>\n",
              "      <td>M</td>\n",
              "      <td>30</td>\n",
              "      <td>34</td>\n",
              "      <td>31</td>\n",
              "      <td>2305.0</td>\n",
              "      <td>1</td>\n",
              "      <td>0.57</td>\n",
              "      <td>1.0</td>\n",
              "      <td>0.0</td>\n",
              "    </tr>\n",
              "    <tr>\n",
              "      <th>17</th>\n",
              "      <td>709124</td>\n",
              "      <td>30/08/2017</td>\n",
              "      <td>30/08/2017</td>\n",
              "      <td>916</td>\n",
              "      <td>103979</td>\n",
              "      <td>30-34</td>\n",
              "      <td>M</td>\n",
              "      <td>31</td>\n",
              "      <td>34</td>\n",
              "      <td>33</td>\n",
              "      <td>1024.0</td>\n",
              "      <td>0</td>\n",
              "      <td>0.00</td>\n",
              "      <td>1.0</td>\n",
              "      <td>1.0</td>\n",
              "    </tr>\n",
              "    <tr>\n",
              "      <th>18</th>\n",
              "      <td>709179</td>\n",
              "      <td>30/08/2017</td>\n",
              "      <td>30/08/2017</td>\n",
              "      <td>916</td>\n",
              "      <td>103988</td>\n",
              "      <td>35-39</td>\n",
              "      <td>M</td>\n",
              "      <td>15</td>\n",
              "      <td>16</td>\n",
              "      <td>17</td>\n",
              "      <td>4627.0</td>\n",
              "      <td>1</td>\n",
              "      <td>1.69</td>\n",
              "      <td>1.0</td>\n",
              "      <td>0.0</td>\n",
              "    </tr>\n",
              "    <tr>\n",
              "      <th>19</th>\n",
              "      <td>709183</td>\n",
              "      <td>30/08/2017</td>\n",
              "      <td>30/08/2017</td>\n",
              "      <td>916</td>\n",
              "      <td>103989</td>\n",
              "      <td>35-39</td>\n",
              "      <td>M</td>\n",
              "      <td>16</td>\n",
              "      <td>20</td>\n",
              "      <td>22</td>\n",
              "      <td>21026.0</td>\n",
              "      <td>4</td>\n",
              "      <td>4.63</td>\n",
              "      <td>2.0</td>\n",
              "      <td>1.0</td>\n",
              "    </tr>\n",
              "    <tr>\n",
              "      <th>20</th>\n",
              "      <td>709320</td>\n",
              "      <td>17/08/2017</td>\n",
              "      <td>17/08/2017</td>\n",
              "      <td>916</td>\n",
              "      <td>104012</td>\n",
              "      <td>35-39</td>\n",
              "      <td>M</td>\n",
              "      <td>15</td>\n",
              "      <td>21</td>\n",
              "      <td>20</td>\n",
              "      <td>1422.0</td>\n",
              "      <td>0</td>\n",
              "      <td>0.00</td>\n",
              "      <td>1.0</td>\n",
              "      <td>1.0</td>\n",
              "    </tr>\n",
              "    <tr>\n",
              "      <th>21</th>\n",
              "      <td>709323</td>\n",
              "      <td>17/08/2017</td>\n",
              "      <td>17/08/2017</td>\n",
              "      <td>916</td>\n",
              "      <td>104012</td>\n",
              "      <td>35-39</td>\n",
              "      <td>M</td>\n",
              "      <td>15</td>\n",
              "      <td>17</td>\n",
              "      <td>19</td>\n",
              "      <td>7132.0</td>\n",
              "      <td>2</td>\n",
              "      <td>2.61</td>\n",
              "      <td>1.0</td>\n",
              "      <td>0.0</td>\n",
              "    </tr>\n",
              "    <tr>\n",
              "      <th>22</th>\n",
              "      <td>709326</td>\n",
              "      <td>18/08/2017</td>\n",
              "      <td>18/08/2017</td>\n",
              "      <td>916</td>\n",
              "      <td>104013</td>\n",
              "      <td>35-39</td>\n",
              "      <td>M</td>\n",
              "      <td>16</td>\n",
              "      <td>22</td>\n",
              "      <td>22</td>\n",
              "      <td>12190.0</td>\n",
              "      <td>2</td>\n",
              "      <td>3.05</td>\n",
              "      <td>1.0</td>\n",
              "      <td>0.0</td>\n",
              "    </tr>\n",
              "    <tr>\n",
              "      <th>23</th>\n",
              "      <td>709327</td>\n",
              "      <td>18/08/2017</td>\n",
              "      <td>18/08/2017</td>\n",
              "      <td>916</td>\n",
              "      <td>104013</td>\n",
              "      <td>35-39</td>\n",
              "      <td>M</td>\n",
              "      <td>16</td>\n",
              "      <td>22</td>\n",
              "      <td>20</td>\n",
              "      <td>12193.0</td>\n",
              "      <td>2</td>\n",
              "      <td>3.06</td>\n",
              "      <td>1.0</td>\n",
              "      <td>1.0</td>\n",
              "    </tr>\n",
              "    <tr>\n",
              "      <th>24</th>\n",
              "      <td>709328</td>\n",
              "      <td>18/08/2017</td>\n",
              "      <td>18/08/2017</td>\n",
              "      <td>916</td>\n",
              "      <td>104013</td>\n",
              "      <td>35-39</td>\n",
              "      <td>M</td>\n",
              "      <td>16</td>\n",
              "      <td>19</td>\n",
              "      <td>18</td>\n",
              "      <td>3332.0</td>\n",
              "      <td>0</td>\n",
              "      <td>0.00</td>\n",
              "      <td>1.0</td>\n",
              "      <td>1.0</td>\n",
              "    </tr>\n",
              "    <tr>\n",
              "      <th>25</th>\n",
              "      <td>709455</td>\n",
              "      <td>18/08/2017</td>\n",
              "      <td>18/08/2017</td>\n",
              "      <td>916</td>\n",
              "      <td>104034</td>\n",
              "      <td>35-39</td>\n",
              "      <td>M</td>\n",
              "      <td>7</td>\n",
              "      <td>12</td>\n",
              "      <td>10</td>\n",
              "      <td>559.0</td>\n",
              "      <td>0</td>\n",
              "      <td>0.00</td>\n",
              "      <td>1.0</td>\n",
              "      <td>0.0</td>\n",
              "    </tr>\n",
              "    <tr>\n",
              "      <th>26</th>\n",
              "      <td>709544</td>\n",
              "      <td>18/08/2017</td>\n",
              "      <td>18/08/2017</td>\n",
              "      <td>916</td>\n",
              "      <td>104049</td>\n",
              "      <td>35-39</td>\n",
              "      <td>M</td>\n",
              "      <td>29</td>\n",
              "      <td>33</td>\n",
              "      <td>32</td>\n",
              "      <td>7440.0</td>\n",
              "      <td>2</td>\n",
              "      <td>2.98</td>\n",
              "      <td>1.0</td>\n",
              "      <td>1.0</td>\n",
              "    </tr>\n",
              "    <tr>\n",
              "      <th>27</th>\n",
              "      <td>709614</td>\n",
              "      <td>19/08/2017</td>\n",
              "      <td>19/08/2017</td>\n",
              "      <td>916</td>\n",
              "      <td>104061</td>\n",
              "      <td>40-44</td>\n",
              "      <td>M</td>\n",
              "      <td>16</td>\n",
              "      <td>19</td>\n",
              "      <td>20</td>\n",
              "      <td>19113.0</td>\n",
              "      <td>4</td>\n",
              "      <td>5.52</td>\n",
              "      <td>1.0</td>\n",
              "      <td>0.0</td>\n",
              "    </tr>\n",
              "    <tr>\n",
              "      <th>28</th>\n",
              "      <td>709756</td>\n",
              "      <td>19/08/2017</td>\n",
              "      <td>19/08/2017</td>\n",
              "      <td>916</td>\n",
              "      <td>104085</td>\n",
              "      <td>40-44</td>\n",
              "      <td>M</td>\n",
              "      <td>16</td>\n",
              "      <td>21</td>\n",
              "      <td>21</td>\n",
              "      <td>10976.0</td>\n",
              "      <td>2</td>\n",
              "      <td>1.69</td>\n",
              "      <td>1.0</td>\n",
              "      <td>1.0</td>\n",
              "    </tr>\n",
              "    <tr>\n",
              "      <th>29</th>\n",
              "      <td>709761</td>\n",
              "      <td>18/08/2017</td>\n",
              "      <td>18/08/2017</td>\n",
              "      <td>916</td>\n",
              "      <td>104085</td>\n",
              "      <td>40-44</td>\n",
              "      <td>M</td>\n",
              "      <td>16</td>\n",
              "      <td>19</td>\n",
              "      <td>20</td>\n",
              "      <td>2861.0</td>\n",
              "      <td>0</td>\n",
              "      <td>0.00</td>\n",
              "      <td>1.0</td>\n",
              "      <td>0.0</td>\n",
              "    </tr>\n",
              "  </tbody>\n",
              "</table>\n",
              "</div>"
            ],
            "text/plain": [
              "     ad_id reporting_start reporting_end campaign_id fb_campaign_id    age  \\\n",
              "0   708746      17/08/2017    17/08/2017         916         103916  30-34   \n",
              "1   708749      17/08/2017    17/08/2017         916         103917  30-34   \n",
              "2   708771      17/08/2017    17/08/2017         916         103920  30-34   \n",
              "3   708815      30/08/2017    30/08/2017         916         103928  30-34   \n",
              "4   708818      17/08/2017    17/08/2017         916         103928  30-34   \n",
              "5   708820      17/08/2017    17/08/2017         916         103929  30-34   \n",
              "6   708889      17/08/2017    17/08/2017         916         103940  30-34   \n",
              "7   708895      17/08/2017    17/08/2017         916         103941  30-34   \n",
              "8   708953      17/08/2017    17/08/2017         916         103951  30-34   \n",
              "9   708958      30/08/2017    30/08/2017         916         103952  30-34   \n",
              "10  708979      30/08/2017    30/08/2017         916         103955  30-34   \n",
              "11  709023      29/08/2017    29/08/2017         916         103962  30-34   \n",
              "12  709038      29/08/2017    29/08/2017         916         103965  30-34   \n",
              "13  709040      29/08/2017    29/08/2017         916         103965  30-34   \n",
              "14  709059      30/08/2017    30/08/2017         916         103968  30-34   \n",
              "15  709105      30/08/2017    30/08/2017         916         103976  30-34   \n",
              "16  709115      30/08/2017    30/08/2017         916         103978  30-34   \n",
              "17  709124      30/08/2017    30/08/2017         916         103979  30-34   \n",
              "18  709179      30/08/2017    30/08/2017         916         103988  35-39   \n",
              "19  709183      30/08/2017    30/08/2017         916         103989  35-39   \n",
              "20  709320      17/08/2017    17/08/2017         916         104012  35-39   \n",
              "21  709323      17/08/2017    17/08/2017         916         104012  35-39   \n",
              "22  709326      18/08/2017    18/08/2017         916         104013  35-39   \n",
              "23  709327      18/08/2017    18/08/2017         916         104013  35-39   \n",
              "24  709328      18/08/2017    18/08/2017         916         104013  35-39   \n",
              "25  709455      18/08/2017    18/08/2017         916         104034  35-39   \n",
              "26  709544      18/08/2017    18/08/2017         916         104049  35-39   \n",
              "27  709614      19/08/2017    19/08/2017         916         104061  40-44   \n",
              "28  709756      19/08/2017    19/08/2017         916         104085  40-44   \n",
              "29  709761      18/08/2017    18/08/2017         916         104085  40-44   \n",
              "\n",
              "   gender  interest1  interest2  interest3  impressions  clicks  spent  \\\n",
              "0       M         15         17         17       7350.0       1   1.43   \n",
              "1       M         16         19         21      17861.0       2   1.82   \n",
              "2       M         20         25         22        693.0       0   0.00   \n",
              "3       M         28         32         32       4259.0       1   1.25   \n",
              "4       M         28         33         32       4133.0       1   1.29   \n",
              "5       M         29         30         30       1915.0       0   0.00   \n",
              "6       M         15         16         17      15615.0       3   4.77   \n",
              "7       M         16         20         18      10951.0       1   1.27   \n",
              "8       M         27         31         31       2355.0       1   1.50   \n",
              "9       M         28         32         31       9502.0       3   3.16   \n",
              "10      M         31         37         34       1224.0       0   0.00   \n",
              "11      M          7          8          8        735.0       0   0.00   \n",
              "12      M         16         20         22       5117.0       0   0.00   \n",
              "13      M         16         19         21       5120.0       0   0.00   \n",
              "14      M         20         26         23      14669.0       7  10.28   \n",
              "15      M         28         30         32       1241.0       0   0.00   \n",
              "16      M         30         34         31       2305.0       1   0.57   \n",
              "17      M         31         34         33       1024.0       0   0.00   \n",
              "18      M         15         16         17       4627.0       1   1.69   \n",
              "19      M         16         20         22      21026.0       4   4.63   \n",
              "20      M         15         21         20       1422.0       0   0.00   \n",
              "21      M         15         17         19       7132.0       2   2.61   \n",
              "22      M         16         22         22      12190.0       2   3.05   \n",
              "23      M         16         22         20      12193.0       2   3.06   \n",
              "24      M         16         19         18       3332.0       0   0.00   \n",
              "25      M          7         12         10        559.0       0   0.00   \n",
              "26      M         29         33         32       7440.0       2   2.98   \n",
              "27      M         16         19         20      19113.0       4   5.52   \n",
              "28      M         16         21         21      10976.0       2   1.69   \n",
              "29      M         16         19         20       2861.0       0   0.00   \n",
              "\n",
              "    total_conversion  approved_conversion  \n",
              "0                2.0                  1.0  \n",
              "1                2.0                  0.0  \n",
              "2                1.0                  0.0  \n",
              "3                1.0                  0.0  \n",
              "4                1.0                  1.0  \n",
              "5                1.0                  1.0  \n",
              "6                1.0                  0.0  \n",
              "7                1.0                  1.0  \n",
              "8                1.0                  0.0  \n",
              "9                1.0                  0.0  \n",
              "10               1.0                  0.0  \n",
              "11               1.0                  0.0  \n",
              "12               1.0                  0.0  \n",
              "13               1.0                  0.0  \n",
              "14               1.0                  1.0  \n",
              "15               1.0                  1.0  \n",
              "16               1.0                  0.0  \n",
              "17               1.0                  1.0  \n",
              "18               1.0                  0.0  \n",
              "19               2.0                  1.0  \n",
              "20               1.0                  1.0  \n",
              "21               1.0                  0.0  \n",
              "22               1.0                  0.0  \n",
              "23               1.0                  1.0  \n",
              "24               1.0                  1.0  \n",
              "25               1.0                  0.0  \n",
              "26               1.0                  1.0  \n",
              "27               1.0                  0.0  \n",
              "28               1.0                  1.0  \n",
              "29               1.0                  0.0  "
            ]
          },
          "execution_count": 19,
          "metadata": {},
          "output_type": "execute_result"
        }
      ]
    },
    {
      "cell_type": "code",
      "metadata": {
        "id": "06e63e07",
        "outputId": "3527e9bd-7be0-4f2a-82a3-7a2fc6b41c94"
      },
      "source": [
        "df.info()"
      ],
      "id": "06e63e07",
      "execution_count": null,
      "outputs": [
        {
          "name": "stdout",
          "output_type": "stream",
          "text": [
            "<class 'pandas.core.frame.DataFrame'>\n",
            "RangeIndex: 1143 entries, 0 to 1142\n",
            "Data columns (total 15 columns):\n",
            " #   Column               Non-Null Count  Dtype  \n",
            "---  ------               --------------  -----  \n",
            " 0   ad_id                1143 non-null   int64  \n",
            " 1   reporting_start      1143 non-null   object \n",
            " 2   reporting_end        1143 non-null   object \n",
            " 3   campaign_id          1143 non-null   object \n",
            " 4   fb_campaign_id       1143 non-null   object \n",
            " 5   age                  1143 non-null   object \n",
            " 6   gender               1143 non-null   object \n",
            " 7   interest1            1143 non-null   int64  \n",
            " 8   interest2            1143 non-null   int64  \n",
            " 9   interest3            1143 non-null   int64  \n",
            " 10  impressions          1143 non-null   float64\n",
            " 11  clicks               1143 non-null   int64  \n",
            " 12  spent                1143 non-null   float64\n",
            " 13  total_conversion     761 non-null    float64\n",
            " 14  approved_conversion  761 non-null    float64\n",
            "dtypes: float64(4), int64(5), object(6)\n",
            "memory usage: 134.1+ KB\n"
          ]
        }
      ]
    },
    {
      "cell_type": "markdown",
      "metadata": {
        "id": "b89fb7d9"
      },
      "source": [
        "We can see the data consists of 15 columns and there are 1142 entries"
      ],
      "id": "b89fb7d9"
    },
    {
      "cell_type": "code",
      "metadata": {
        "id": "04afc82d",
        "outputId": "dba5a89b-27bd-41ad-8a03-8a48174d0e3b"
      },
      "source": [
        "df.isnull().sum()"
      ],
      "id": "04afc82d",
      "execution_count": null,
      "outputs": [
        {
          "data": {
            "text/plain": [
              "ad_id                    0\n",
              "reporting_start          0\n",
              "reporting_end            0\n",
              "campaign_id              0\n",
              "fb_campaign_id           0\n",
              "age                      0\n",
              "gender                   0\n",
              "interest1                0\n",
              "interest2                0\n",
              "interest3                0\n",
              "impressions              0\n",
              "clicks                   0\n",
              "spent                    0\n",
              "total_conversion       382\n",
              "approved_conversion    382\n",
              "dtype: int64"
            ]
          },
          "execution_count": 21,
          "metadata": {},
          "output_type": "execute_result"
        }
      ]
    },
    {
      "cell_type": "code",
      "metadata": {
        "id": "bfabe236",
        "outputId": "71335b68-5400-4029-b500-6ceac885ece9"
      },
      "source": [
        "df= df.dropna()\n",
        "df.shape"
      ],
      "id": "bfabe236",
      "execution_count": null,
      "outputs": [
        {
          "data": {
            "text/plain": [
              "(761, 15)"
            ]
          },
          "execution_count": 23,
          "metadata": {},
          "output_type": "execute_result"
        }
      ]
    },
    {
      "cell_type": "code",
      "metadata": {
        "id": "a46bd0a1"
      },
      "source": [
        ""
      ],
      "id": "a46bd0a1",
      "execution_count": null,
      "outputs": []
    },
    {
      "cell_type": "code",
      "metadata": {
        "id": "c3a86ce1"
      },
      "source": [
        ""
      ],
      "id": "c3a86ce1",
      "execution_count": null,
      "outputs": []
    },
    {
      "cell_type": "markdown",
      "metadata": {
        "id": "803d8f50"
      },
      "source": [
        "There are 382 null values column in total_conversion and same for approved_conversion We will drop the nan values column as it is of no use in analysis"
      ],
      "id": "803d8f50"
    },
    {
      "cell_type": "markdown",
      "metadata": {
        "id": "e6dc60a9"
      },
      "source": [
        "## Analysing the datasets for each and every categories "
      ],
      "id": "e6dc60a9"
    },
    {
      "cell_type": "code",
      "metadata": {
        "id": "8120aed3",
        "outputId": "c55ad47a-714b-4d0e-ff27-1f6216a436e5"
      },
      "source": [
        "df.age.value_counts()\n"
      ],
      "id": "8120aed3",
      "execution_count": null,
      "outputs": [
        {
          "data": {
            "text/plain": [
              "30-34    327\n",
              "35-39    180\n",
              "40-44    139\n",
              "45-49    115\n",
              "Name: age, dtype: int64"
            ]
          },
          "execution_count": 33,
          "metadata": {},
          "output_type": "execute_result"
        }
      ]
    },
    {
      "cell_type": "code",
      "metadata": {
        "id": "cd4d5d3c",
        "outputId": "2bce4e0c-43ec-4ef6-c759-95c835936e93"
      },
      "source": [
        "## plotting graphs for the age\n",
        "\n",
        "sns.countplot(df.age);"
      ],
      "id": "cd4d5d3c",
      "execution_count": null,
      "outputs": [
        {
          "name": "stderr",
          "output_type": "stream",
          "text": [
            "C:\\ProgramData\\Anaconda3\\lib\\site-packages\\seaborn\\_decorators.py:36: FutureWarning: Pass the following variable as a keyword arg: x. From version 0.12, the only valid positional argument will be `data`, and passing other arguments without an explicit keyword will result in an error or misinterpretation.\n",
            "  warnings.warn(\n"
          ]
        },
        {
          "data": {
            "image/png": "[encoded data removed]",
            "text/plain": [
              "<Figure size 432x288 with 1 Axes>"
            ]
          },
          "metadata": {
            "needs_background": "light"
          },
          "output_type": "display_data"
        }
      ]
    },
    {
      "cell_type": "markdown",
      "metadata": {
        "id": "37cd90b7"
      },
      "source": [
        "AGE group 30-34 are mostly present in the data\n",
        "\n",
        "note:- There is no data for age group below 30"
      ],
      "id": "37cd90b7"
    },
    {
      "cell_type": "code",
      "metadata": {
        "id": "861bdc90",
        "outputId": "28067eff-8a8a-48d3-aabd-19ec8d3a61e4"
      },
      "source": [
        "sns.countplot(df.gender)"
      ],
      "id": "861bdc90",
      "execution_count": null,
      "outputs": [
        {
          "name": "stderr",
          "output_type": "stream",
          "text": [
            "C:\\ProgramData\\Anaconda3\\lib\\site-packages\\seaborn\\_decorators.py:36: FutureWarning: Pass the following variable as a keyword arg: x. From version 0.12, the only valid positional argument will be `data`, and passing other arguments without an explicit keyword will result in an error or misinterpretation.\n",
            "  warnings.warn(\n"
          ]
        },
        {
          "data": {
            "text/plain": [
              "<AxesSubplot:xlabel='gender', ylabel='count'>"
            ]
          },
          "execution_count": 34,
          "metadata": {},
          "output_type": "execute_result"
        },
        {
          "data": {
            "image/png": "[encoded data removed]",
            "text/plain": [
              "<Figure size 432x288 with 1 Axes>"
            ]
          },
          "metadata": {
            "needs_background": "light"
          },
          "output_type": "display_data"
        }
      ]
    },
    {
      "cell_type": "markdown",
      "metadata": {
        "id": "224c97c5"
      },
      "source": [
        "Males are aprroximately double in nos to the female"
      ],
      "id": "224c97c5"
    },
    {
      "cell_type": "markdown",
      "metadata": {
        "id": "1244c52b"
      },
      "source": [
        " Now lets have a look at  clicks,spent,total_conversion,approved_conversion columns"
      ],
      "id": "1244c52b"
    },
    {
      "cell_type": "code",
      "metadata": {
        "id": "4c1c52dc",
        "outputId": "f8c5d6b4-45ec-4230-bd50-3fbe1f4d8a55"
      },
      "source": [
        "sns.histplot(df.clicks)"
      ],
      "id": "4c1c52dc",
      "execution_count": null,
      "outputs": [
        {
          "data": {
            "text/plain": [
              "<AxesSubplot:xlabel='clicks', ylabel='Count'>"
            ]
          },
          "execution_count": 40,
          "metadata": {},
          "output_type": "execute_result"
        },
        {
          "data": {
            "image/png": "[encoded data removed]",
            "text/plain": [
              "<Figure size 432x288 with 1 Axes>"
            ]
          },
          "metadata": {
            "needs_background": "light"
          },
          "output_type": "display_data"
        }
      ]
    },
    {
      "cell_type": "code",
      "metadata": {
        "id": "7ee64466",
        "outputId": "414eb521-1c67-4045-d1fa-bfbcb55430ee"
      },
      "source": [
        "sns.histplot(df.spent)"
      ],
      "id": "7ee64466",
      "execution_count": null,
      "outputs": [
        {
          "data": {
            "text/plain": [
              "<AxesSubplot:xlabel='spent', ylabel='Count'>"
            ]
          },
          "execution_count": 39,
          "metadata": {},
          "output_type": "execute_result"
        },
        {
          "data": {
            "image/png": "[encoded data removed]",
            "text/plain": [
              "<Figure size 432x288 with 1 Axes>"
            ]
          },
          "metadata": {
            "needs_background": "light"
          },
          "output_type": "display_data"
        }
      ]
    },
    {
      "cell_type": "code",
      "metadata": {
        "id": "44599df2",
        "outputId": "c615e727-73e9-496a-c9a3-e9230efb337e"
      },
      "source": [
        "sns.countplot(df.approved_conversion)"
      ],
      "id": "44599df2",
      "execution_count": null,
      "outputs": [
        {
          "name": "stderr",
          "output_type": "stream",
          "text": [
            "C:\\ProgramData\\Anaconda3\\lib\\site-packages\\seaborn\\_decorators.py:36: FutureWarning: Pass the following variable as a keyword arg: x. From version 0.12, the only valid positional argument will be `data`, and passing other arguments without an explicit keyword will result in an error or misinterpretation.\n",
            "  warnings.warn(\n"
          ]
        },
        {
          "data": {
            "text/plain": [
              "<AxesSubplot:xlabel='approved_conversion', ylabel='count'>"
            ]
          },
          "execution_count": 41,
          "metadata": {},
          "output_type": "execute_result"
        },
        {
          "data": {
            "image/png": "[encoded data removed]",
            "text/plain": [
              "<Figure size 432x288 with 1 Axes>"
            ]
          },
          "metadata": {
            "needs_background": "light"
          },
          "output_type": "display_data"
        }
      ]
    },
    {
      "cell_type": "markdown",
      "metadata": {
        "id": "2b7d3795"
      },
      "source": [
        "## Doing data analysis for the above all columns"
      ],
      "id": "2b7d3795"
    },
    {
      "cell_type": "markdown",
      "metadata": {
        "id": "9840bd5a"
      },
      "source": [
        "### cost analysis"
      ],
      "id": "9840bd5a"
    },
    {
      "cell_type": "code",
      "metadata": {
        "id": "0da496ca",
        "outputId": "5a9153d0-8b78-4767-ca38-a9a66ebb1186"
      },
      "source": [
        "print('Campaign wise clicks')\n",
        "print((df.groupby(['campaign_id'])).clicks.sum())\n",
        "print('-------------------------')\n",
        "\n",
        "print('Campaign wise amount spent')\n",
        "print((df.groupby(['campaign_id'])).spent.sum())\n",
        "print('--------------------------')\n",
        "\n",
        "\n",
        "print('Campaign wise total conversions')\n",
        "print((df.groupby(['campaign_id'])).total_conversion.sum())\n",
        "print('---------------------------')\n",
        "\n",
        "print('Campaign wise ad count')\n",
        "print((df.groupby(['campaign_id'])).ad_id.count())\n",
        "print('===========================')"
      ],
      "id": "0da496ca",
      "execution_count": null,
      "outputs": [
        {
          "name": "stdout",
          "output_type": "stream",
          "text": [
            "Campaign wise clicks\n",
            "campaign_id\n",
            "1178    9577\n",
            "916      113\n",
            "936     1984\n",
            "Name: clicks, dtype: int64\n",
            "-------------------------\n",
            "Campaign wise amount spent\n",
            "campaign_id\n",
            "1178    16577.159998\n",
            "916       149.710001\n",
            "936      2893.369999\n",
            "Name: spent, dtype: float64\n",
            "--------------------------\n",
            "Campaign wise total conversions\n",
            "campaign_id\n",
            "1178    1050.0\n",
            "916       58.0\n",
            "936      537.0\n",
            "Name: total_conversion, dtype: float64\n",
            "---------------------------\n",
            "Campaign wise ad count\n",
            "campaign_id\n",
            "1178    243\n",
            "916      54\n",
            "936     464\n",
            "Name: ad_id, dtype: int64\n",
            "===========================\n"
          ]
        }
      ]
    },
    {
      "cell_type": "markdown",
      "metadata": {
        "id": "c99073ae"
      },
      "source": [
        " From the above cell we can clearly see the complete cost analysis for diffrent campaign 1178,916,936"
      ],
      "id": "c99073ae"
    },
    {
      "cell_type": "markdown",
      "metadata": {
        "id": "3ce0a058"
      },
      "source": [
        "#### Now we will find the best campaign from the datset which is most effiecnt and cost effective"
      ],
      "id": "3ce0a058"
    },
    {
      "cell_type": "code",
      "metadata": {
        "scrolled": true,
        "id": "fb862e0e",
        "outputId": "4722ed22-ef28-490b-ff2f-fcc52d5b57b8"
      },
      "source": [
        "campaign_1178_clicks = 9577\n",
        "campaign_1178_cost = 16577.159998\n",
        "campaign_1178_conv = 1050\n",
        "campaign_1178_adcount = 243\n",
        "campaign_1178_cpc = (campaign_1178_cost/campaign_1178_clicks)\n",
        "campaign_1178_cpco = (campaign_1178_cost/campaign_1178_conv)\n",
        "campaign_1178_cpad = (campaign_1178_cost/campaign_1178_adcount)\n",
        "\n",
        "print('The cost per click of campaign_1178 is '+ str(campaign_1178_cpc))\n",
        "print('The cost per conversion of campaign_1178 is '+ str(campaign_1178_cpco))\n",
        "print('The cost per ad in campaign_1178 is '+ str(campaign_1178_cpad))\n",
        "print('---------------------------------------------------------------')\n",
        "\n",
        "\n",
        "campaign_936_clicks = 1984\n",
        "campaign_936_cost = 2893.369999\n",
        "campaign_936_conv = 537\n",
        "campaign_936_adcount = 464\n",
        "campaign_936_cpc = (campaign_936_cost/campaign_936_clicks)\n",
        "campaign_936_cpco = (campaign_936_cost/campaign_936_conv)\n",
        "campaign_936_cpad = (campaign_936_cost/campaign_936_adcount)\n",
        "\n",
        "print('The cost per click of campaign_936 is '+ str(campaign_936_cpc))\n",
        "print('The cost per conversion of campaign_936 is '+ str(campaign_936_cpco))\n",
        "print('The cost per ad in campaign_936 is '+ str(campaign_936_cpad))\n",
        "print('---------------------------------------------------------------')\n",
        "\n",
        "\n",
        "campaign_916_clicks = 113\n",
        "campaign_916_cost = 149.710001\n",
        "campaign_916_conv = 58\n",
        "campaign_916_adcount = 54\n",
        "campaign_916_cpc = (campaign_916_cost/campaign_916_clicks)\n",
        "campaign_916_cpco = (campaign_916_cost/campaign_916_conv)\n",
        "campaign_916_cpad = (campaign_916_cost/campaign_916_adcount)\n",
        "\n",
        "print('The cost per click of campaign_916 is '+ str(campaign_916_cpc))\n",
        "print('The cost per conversion of campaign_916 is '+ str(campaign_916_cpco))\n",
        "print('The cost per ad in campaign_916 is '+ str(campaign_916_cpad))\n",
        "print('---------------------------------------------------------------')"
      ],
      "id": "fb862e0e",
      "execution_count": null,
      "outputs": [
        {
          "name": "stdout",
          "output_type": "stream",
          "text": [
            "The cost per click of campaign_1178 is 1.7309345304375063\n",
            "The cost per conversion of campaign_1178 is 15.787771426666666\n",
            "The cost per ad in campaign_1178 is 68.2187654238683\n",
            "---------------------------------------------------------------\n",
            "The cost per click of campaign_936 is 1.4583518140120968\n",
            "The cost per conversion of campaign_936 is 5.388026068901303\n",
            "The cost per ad in campaign_936 is 6.23571120474138\n",
            "---------------------------------------------------------------\n",
            "The cost per click of campaign_916 is 1.3248672654867257\n",
            "The cost per conversion of campaign_916 is 2.5812069137931037\n",
            "The cost per ad in campaign_916 is 2.772407425925926\n",
            "---------------------------------------------------------------\n"
          ]
        }
      ]
    },
    {
      "cell_type": "markdown",
      "metadata": {
        "id": "f94ea684"
      },
      "source": [
        "From the above analysis it is very clear that campaign 916 is the most efficient and profitable campaign.\n",
        "The cost per click and cost per conversion is very low compared other campaigns."
      ],
      "id": "f94ea684"
    },
    {
      "cell_type": "markdown",
      "metadata": {
        "id": "b7191f9f"
      },
      "source": [
        "Now we will create diffrent dataframes for 916 and 1178 and scale the two campaigns and analyze it"
      ],
      "id": "b7191f9f"
    },
    {
      "cell_type": "code",
      "metadata": {
        "id": "c98ef82c",
        "outputId": "b9629f77-b0b3-42f0-bda3-5088f4162fc8"
      },
      "source": [
        "dfn = df.query('campaign_id ==\"916\"')\n",
        "dfn.head()"
      ],
      "id": "c98ef82c",
      "execution_count": null,
      "outputs": [
        {
          "data": {
            "text/html": [
              "<div>\n",
              "<style scoped>\n",
              "    .dataframe tbody tr th:only-of-type {\n",
              "        vertical-align: middle;\n",
              "    }\n",
              "\n",
              "    .dataframe tbody tr th {\n",
              "        vertical-align: top;\n",
              "    }\n",
              "\n",
              "    .dataframe thead th {\n",
              "        text-align: right;\n",
              "    }\n",
              "</style>\n",
              "<table border=\"1\" class=\"dataframe\">\n",
              "  <thead>\n",
              "    <tr style=\"text-align: right;\">\n",
              "      <th></th>\n",
              "      <th>ad_id</th>\n",
              "      <th>reporting_start</th>\n",
              "      <th>reporting_end</th>\n",
              "      <th>campaign_id</th>\n",
              "      <th>fb_campaign_id</th>\n",
              "      <th>age</th>\n",
              "      <th>gender</th>\n",
              "      <th>interest1</th>\n",
              "      <th>interest2</th>\n",
              "      <th>interest3</th>\n",
              "      <th>impressions</th>\n",
              "      <th>clicks</th>\n",
              "      <th>spent</th>\n",
              "      <th>total_conversion</th>\n",
              "      <th>approved_conversion</th>\n",
              "    </tr>\n",
              "  </thead>\n",
              "  <tbody>\n",
              "    <tr>\n",
              "      <th>0</th>\n",
              "      <td>708746</td>\n",
              "      <td>17/08/2017</td>\n",
              "      <td>17/08/2017</td>\n",
              "      <td>916</td>\n",
              "      <td>103916</td>\n",
              "      <td>30-34</td>\n",
              "      <td>M</td>\n",
              "      <td>15</td>\n",
              "      <td>17</td>\n",
              "      <td>17</td>\n",
              "      <td>7350.0</td>\n",
              "      <td>1</td>\n",
              "      <td>1.43</td>\n",
              "      <td>2.0</td>\n",
              "      <td>1.0</td>\n",
              "    </tr>\n",
              "    <tr>\n",
              "      <th>1</th>\n",
              "      <td>708749</td>\n",
              "      <td>17/08/2017</td>\n",
              "      <td>17/08/2017</td>\n",
              "      <td>916</td>\n",
              "      <td>103917</td>\n",
              "      <td>30-34</td>\n",
              "      <td>M</td>\n",
              "      <td>16</td>\n",
              "      <td>19</td>\n",
              "      <td>21</td>\n",
              "      <td>17861.0</td>\n",
              "      <td>2</td>\n",
              "      <td>1.82</td>\n",
              "      <td>2.0</td>\n",
              "      <td>0.0</td>\n",
              "    </tr>\n",
              "    <tr>\n",
              "      <th>2</th>\n",
              "      <td>708771</td>\n",
              "      <td>17/08/2017</td>\n",
              "      <td>17/08/2017</td>\n",
              "      <td>916</td>\n",
              "      <td>103920</td>\n",
              "      <td>30-34</td>\n",
              "      <td>M</td>\n",
              "      <td>20</td>\n",
              "      <td>25</td>\n",
              "      <td>22</td>\n",
              "      <td>693.0</td>\n",
              "      <td>0</td>\n",
              "      <td>0.00</td>\n",
              "      <td>1.0</td>\n",
              "      <td>0.0</td>\n",
              "    </tr>\n",
              "    <tr>\n",
              "      <th>3</th>\n",
              "      <td>708815</td>\n",
              "      <td>30/08/2017</td>\n",
              "      <td>30/08/2017</td>\n",
              "      <td>916</td>\n",
              "      <td>103928</td>\n",
              "      <td>30-34</td>\n",
              "      <td>M</td>\n",
              "      <td>28</td>\n",
              "      <td>32</td>\n",
              "      <td>32</td>\n",
              "      <td>4259.0</td>\n",
              "      <td>1</td>\n",
              "      <td>1.25</td>\n",
              "      <td>1.0</td>\n",
              "      <td>0.0</td>\n",
              "    </tr>\n",
              "    <tr>\n",
              "      <th>4</th>\n",
              "      <td>708818</td>\n",
              "      <td>17/08/2017</td>\n",
              "      <td>17/08/2017</td>\n",
              "      <td>916</td>\n",
              "      <td>103928</td>\n",
              "      <td>30-34</td>\n",
              "      <td>M</td>\n",
              "      <td>28</td>\n",
              "      <td>33</td>\n",
              "      <td>32</td>\n",
              "      <td>4133.0</td>\n",
              "      <td>1</td>\n",
              "      <td>1.29</td>\n",
              "      <td>1.0</td>\n",
              "      <td>1.0</td>\n",
              "    </tr>\n",
              "  </tbody>\n",
              "</table>\n",
              "</div>"
            ],
            "text/plain": [
              "    ad_id reporting_start reporting_end campaign_id fb_campaign_id    age  \\\n",
              "0  708746      17/08/2017    17/08/2017         916         103916  30-34   \n",
              "1  708749      17/08/2017    17/08/2017         916         103917  30-34   \n",
              "2  708771      17/08/2017    17/08/2017         916         103920  30-34   \n",
              "3  708815      30/08/2017    30/08/2017         916         103928  30-34   \n",
              "4  708818      17/08/2017    17/08/2017         916         103928  30-34   \n",
              "\n",
              "  gender  interest1  interest2  interest3  impressions  clicks  spent  \\\n",
              "0      M         15         17         17       7350.0       1   1.43   \n",
              "1      M         16         19         21      17861.0       2   1.82   \n",
              "2      M         20         25         22        693.0       0   0.00   \n",
              "3      M         28         32         32       4259.0       1   1.25   \n",
              "4      M         28         33         32       4133.0       1   1.29   \n",
              "\n",
              "   total_conversion  approved_conversion  \n",
              "0               2.0                  1.0  \n",
              "1               2.0                  0.0  \n",
              "2               1.0                  0.0  \n",
              "3               1.0                  0.0  \n",
              "4               1.0                  1.0  "
            ]
          },
          "execution_count": 45,
          "metadata": {},
          "output_type": "execute_result"
        }
      ]
    },
    {
      "cell_type": "code",
      "metadata": {
        "id": "a832193d",
        "outputId": "2d42607c-3b0d-4c75-d3c9-99e7cc0caade"
      },
      "source": [
        "dfm = df.query('campaign_id ==\"1178\"')\n",
        "dfm.head()"
      ],
      "id": "a832193d",
      "execution_count": null,
      "outputs": [
        {
          "data": {
            "text/html": [
              "<div>\n",
              "<style scoped>\n",
              "    .dataframe tbody tr th:only-of-type {\n",
              "        vertical-align: middle;\n",
              "    }\n",
              "\n",
              "    .dataframe tbody tr th {\n",
              "        vertical-align: top;\n",
              "    }\n",
              "\n",
              "    .dataframe thead th {\n",
              "        text-align: right;\n",
              "    }\n",
              "</style>\n",
              "<table border=\"1\" class=\"dataframe\">\n",
              "  <thead>\n",
              "    <tr style=\"text-align: right;\">\n",
              "      <th></th>\n",
              "      <th>ad_id</th>\n",
              "      <th>reporting_start</th>\n",
              "      <th>reporting_end</th>\n",
              "      <th>campaign_id</th>\n",
              "      <th>fb_campaign_id</th>\n",
              "      <th>age</th>\n",
              "      <th>gender</th>\n",
              "      <th>interest1</th>\n",
              "      <th>interest2</th>\n",
              "      <th>interest3</th>\n",
              "      <th>impressions</th>\n",
              "      <th>clicks</th>\n",
              "      <th>spent</th>\n",
              "      <th>total_conversion</th>\n",
              "      <th>approved_conversion</th>\n",
              "    </tr>\n",
              "  </thead>\n",
              "  <tbody>\n",
              "    <tr>\n",
              "      <th>518</th>\n",
              "      <td>1121091</td>\n",
              "      <td>28/08/2017</td>\n",
              "      <td>28/08/2017</td>\n",
              "      <td>1178</td>\n",
              "      <td>144531</td>\n",
              "      <td>30-34</td>\n",
              "      <td>M</td>\n",
              "      <td>10</td>\n",
              "      <td>11</td>\n",
              "      <td>15</td>\n",
              "      <td>1194718.0</td>\n",
              "      <td>141</td>\n",
              "      <td>254.049996</td>\n",
              "      <td>28.0</td>\n",
              "      <td>14.0</td>\n",
              "    </tr>\n",
              "    <tr>\n",
              "      <th>519</th>\n",
              "      <td>1121092</td>\n",
              "      <td>28/08/2017</td>\n",
              "      <td>28/08/2017</td>\n",
              "      <td>1178</td>\n",
              "      <td>144531</td>\n",
              "      <td>30-34</td>\n",
              "      <td>M</td>\n",
              "      <td>10</td>\n",
              "      <td>12</td>\n",
              "      <td>11</td>\n",
              "      <td>637648.0</td>\n",
              "      <td>67</td>\n",
              "      <td>122.400000</td>\n",
              "      <td>13.0</td>\n",
              "      <td>5.0</td>\n",
              "    </tr>\n",
              "    <tr>\n",
              "      <th>520</th>\n",
              "      <td>1121094</td>\n",
              "      <td>28/08/2017</td>\n",
              "      <td>28/08/2017</td>\n",
              "      <td>1178</td>\n",
              "      <td>144531</td>\n",
              "      <td>30-34</td>\n",
              "      <td>M</td>\n",
              "      <td>10</td>\n",
              "      <td>16</td>\n",
              "      <td>15</td>\n",
              "      <td>24362.0</td>\n",
              "      <td>0</td>\n",
              "      <td>0.000000</td>\n",
              "      <td>1.0</td>\n",
              "      <td>1.0</td>\n",
              "    </tr>\n",
              "    <tr>\n",
              "      <th>521</th>\n",
              "      <td>1121095</td>\n",
              "      <td>28/08/2017</td>\n",
              "      <td>28/08/2017</td>\n",
              "      <td>1178</td>\n",
              "      <td>144531</td>\n",
              "      <td>30-34</td>\n",
              "      <td>M</td>\n",
              "      <td>10</td>\n",
              "      <td>16</td>\n",
              "      <td>12</td>\n",
              "      <td>459690.0</td>\n",
              "      <td>50</td>\n",
              "      <td>86.330001</td>\n",
              "      <td>5.0</td>\n",
              "      <td>2.0</td>\n",
              "    </tr>\n",
              "    <tr>\n",
              "      <th>522</th>\n",
              "      <td>1121096</td>\n",
              "      <td>28/08/2017</td>\n",
              "      <td>28/08/2017</td>\n",
              "      <td>1178</td>\n",
              "      <td>144531</td>\n",
              "      <td>30-34</td>\n",
              "      <td>M</td>\n",
              "      <td>10</td>\n",
              "      <td>11</td>\n",
              "      <td>16</td>\n",
              "      <td>750060.0</td>\n",
              "      <td>86</td>\n",
              "      <td>161.909999</td>\n",
              "      <td>11.0</td>\n",
              "      <td>2.0</td>\n",
              "    </tr>\n",
              "  </tbody>\n",
              "</table>\n",
              "</div>"
            ],
            "text/plain": [
              "       ad_id reporting_start reporting_end campaign_id fb_campaign_id    age  \\\n",
              "518  1121091      28/08/2017    28/08/2017        1178         144531  30-34   \n",
              "519  1121092      28/08/2017    28/08/2017        1178         144531  30-34   \n",
              "520  1121094      28/08/2017    28/08/2017        1178         144531  30-34   \n",
              "521  1121095      28/08/2017    28/08/2017        1178         144531  30-34   \n",
              "522  1121096      28/08/2017    28/08/2017        1178         144531  30-34   \n",
              "\n",
              "    gender  interest1  interest2  interest3  impressions  clicks       spent  \\\n",
              "518      M         10         11         15    1194718.0     141  254.049996   \n",
              "519      M         10         12         11     637648.0      67  122.400000   \n",
              "520      M         10         16         15      24362.0       0    0.000000   \n",
              "521      M         10         16         12     459690.0      50   86.330001   \n",
              "522      M         10         11         16     750060.0      86  161.909999   \n",
              "\n",
              "     total_conversion  approved_conversion  \n",
              "518              28.0                 14.0  \n",
              "519              13.0                  5.0  \n",
              "520               1.0                  1.0  \n",
              "521               5.0                  2.0  \n",
              "522              11.0                  2.0  "
            ]
          },
          "execution_count": 46,
          "metadata": {},
          "output_type": "execute_result"
        }
      ]
    },
    {
      "cell_type": "markdown",
      "metadata": {
        "id": "506715c9"
      },
      "source": [
        "### Doing analysis for main dataframe as well as of 916 and 1178 "
      ],
      "id": "506715c9"
    },
    {
      "cell_type": "code",
      "metadata": {
        "id": "591b0d7d",
        "outputId": "954e139d-acb4-4b8f-da08-42271e40f234"
      },
      "source": [
        "#  Gender analysis\n",
        "\n",
        "\n",
        "print('Gender based analysis for all campaign in the  data frame \\\\n')\n",
        "print((df.groupby(['gender'])).total_conversion.sum())\n",
        "print((df.groupby(['gender'])).ad_id.count())\n",
        "\n",
        "print('Gender based analysis for campaign id 916 data frame \\\\n')\n",
        "print((dfn.groupby(['gender'])).total_conversion.sum())\n",
        "print((dfn.groupby(['gender'])).ad_id.count())\n",
        "\n",
        "\n",
        "print('Gender based analysis for campaign id 1178 data frame \\\\n')\n",
        "print((dfm.groupby(['gender'])).total_conversion.sum())\n",
        "print((dfm.groupby(['gender'])).ad_id.count())"
      ],
      "id": "591b0d7d",
      "execution_count": null,
      "outputs": [
        {
          "name": "stdout",
          "output_type": "stream",
          "text": [
            "Gender based analysis for all campaign in the  data frame \\n\n",
            "gender\n",
            "F     322.0\n",
            "M    1323.0\n",
            "Name: total_conversion, dtype: float64\n",
            "gender\n",
            "F    275\n",
            "M    486\n",
            "Name: ad_id, dtype: int64\n",
            "Gender based analysis for campaign id 916 data frame \\n\n",
            "gender\n",
            "F    20.0\n",
            "M    38.0\n",
            "Name: total_conversion, dtype: float64\n",
            "gender\n",
            "F    19\n",
            "M    35\n",
            "Name: ad_id, dtype: int64\n",
            "Gender based analysis for campaign id 1178 data frame \\n\n",
            "gender\n",
            "M    1050.0\n",
            "Name: total_conversion, dtype: float64\n",
            "gender\n",
            "M    243\n",
            "Name: ad_id, dtype: int64\n"
          ]
        }
      ]
    },
    {
      "cell_type": "markdown",
      "metadata": {
        "id": "0f274b5d"
      },
      "source": [
        " we can get more conversion by targeting Males alone, the cost per conversion is high (inferred from campaign 1178 analysis) and the number of ads.\n",
        " \n",
        " If there was to be more ads in campaign 916 the conversions would have been much higher\n",
        " \n",
        " From the above analysis we can conclude that we need to target both male and female."
      ],
      "id": "0f274b5d"
    },
    {
      "cell_type": "code",
      "metadata": {
        "id": "a4d41966",
        "outputId": "e1d4e870-7e09-4ea5-fb85-176b56c0a1b4"
      },
      "source": [
        "# age analysis\n",
        "print('Age based analysis for all campaign in the  data frame \\\\n')\n",
        "print((df.groupby(['age'])).total_conversion.sum())\n",
        "print((df.groupby(['age'])).ad_id.count())\n",
        "\n",
        "\n",
        "print('Age based analysis for campaign id 916 data frame \\\\n')\n",
        "print((dfn.groupby(['age'])).total_conversion.sum())\n",
        "print((dfn.groupby(['age'])).ad_id.count())\n",
        "\n",
        "print('Age based analysis for campaign id 1178 data frame \\\\n')\n",
        "print((dfm.groupby(['age'])).total_conversion.sum())\n",
        "print((dfm.groupby(['age'])).ad_id.count())"
      ],
      "id": "a4d41966",
      "execution_count": null,
      "outputs": [
        {
          "name": "stdout",
          "output_type": "stream",
          "text": [
            "Age based analysis for all campaign in the  data frame \\n\n",
            "age\n",
            "30-34    890.0\n",
            "35-39    357.0\n",
            "40-44    235.0\n",
            "45-49    163.0\n",
            "Name: total_conversion, dtype: float64\n",
            "age\n",
            "30-34    327\n",
            "35-39    180\n",
            "40-44    139\n",
            "45-49    115\n",
            "Name: ad_id, dtype: int64\n",
            "Age based analysis for campaign id 916 data frame \\n\n",
            "age\n",
            "30-34    31.0\n",
            "35-39    13.0\n",
            "40-44     7.0\n",
            "45-49     7.0\n",
            "Name: total_conversion, dtype: float64\n",
            "age\n",
            "30-34    29\n",
            "35-39    12\n",
            "40-44     6\n",
            "45-49     7\n",
            "Name: ad_id, dtype: int64\n",
            "Age based analysis for campaign id 1178 data frame \\n\n",
            "age\n",
            "30-34    632.0\n",
            "35-39    248.0\n",
            "40-44    145.0\n",
            "45-49     25.0\n",
            "Name: total_conversion, dtype: float64\n",
            "age\n",
            "30-34    102\n",
            "35-39     79\n",
            "40-44     58\n",
            "45-49      4\n",
            "Name: ad_id, dtype: int64\n"
          ]
        }
      ]
    },
    {
      "cell_type": "markdown",
      "metadata": {
        "id": "c54d8cea"
      },
      "source": [
        "From the above analysis we can conclude that we need to target all four age ranges\n",
        "\n",
        "Though we can get more conversion by targeting 30-34 and 35-39 alone, the cost per conversion is high (inferred from campaign 1178 analysis). As there are lesser data in 916 df and also one more camapign was there so it wouldn't measure precisely"
      ],
      "id": "c54d8cea"
    },
    {
      "cell_type": "code",
      "metadata": {
        "id": "dabb3975"
      },
      "source": [
        ""
      ],
      "id": "dabb3975",
      "execution_count": null,
      "outputs": []
    }
  ]
}